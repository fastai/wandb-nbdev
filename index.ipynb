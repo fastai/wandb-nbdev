{
 "cells": [
  {
   "cell_type": "code",
   "execution_count": null,
   "metadata": {},
   "outputs": [],
   "source": [
    "#| hide\n",
    "from wandb_nbdev.core import *"
   ]
  },
  {
   "cell_type": "markdown",
   "metadata": {},
   "source": [
    "# Getting Started\n",
    "\n",
    "> Use Weights & Biases for experiment tracking, dataset versioning, and model management"
   ]
  },
  {
   "cell_type": "markdown",
   "metadata": {},
   "source": [
    "This file will become your README and also the index of your documentation."
   ]
  },
  {
   "cell_type": "markdown",
   "metadata": {},
   "source": [
    "Getting started with experiment tracking? Try the [Quickstart →](https://docs.wandb.ai/quickstart)"
   ]
  },
  {
   "cell_type": "markdown",
   "metadata": {},
   "source": [
    "## Guides"
   ]
  },
  {
   "cell_type": "markdown",
   "metadata": {},
   "source": [
    "1. [Experiment Tracking](https://docs.wandb.ai/guides/track): Visualize experiments in real time\n",
    "2. [Hyperparameter Tuning](https://docs.wandb.ai/guides/sweeps): Optimize models quickly\n",
    "3. [Collaborative Reports](https://docs.wandb.ai/guides/reports): Describe and share findings\n",
    "4. [Data + Model Versioning](https://docs.wandb.ai/guides/artifacts): Version datasets and models\n",
    "5. [Data Visualization](https://docs.wandb.ai/guides/data-vis): Visualize predictions across model versions\n",
    "6. [Integrations](https://docs.wandb.ai/guides/integrations): PyTorch, Keras, Hugging Face, and more\n",
    "7. [Private-Hosting](https://docs.wandb.ai/guides/self-hosted): Private cloud and local hosting of the W&B app"
   ]
  },
  {
   "cell_type": "markdown",
   "metadata": {},
   "source": [
    "## Reference"
   ]
  },
  {
   "cell_type": "markdown",
   "metadata": {},
   "source": [
    "1. [Python Library](https://docs.wandb.ai/ref/python)\n",
    "2. [Command Line Interface](https://docs.wandb.ai/ref/cli)\n",
    "3. [App UI](https://docs.wandb.ai/ref/app)"
   ]
  }
 ],
 "metadata": {
  "kernelspec": {
   "display_name": "Python 3 (ipykernel)",
   "language": "python",
   "name": "python3"
  }
 },
 "nbformat": 4,
 "nbformat_minor": 4
}
